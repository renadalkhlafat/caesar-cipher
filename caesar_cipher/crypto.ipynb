{
 "cells": [
  {
   "cell_type": "code",
   "execution_count": 218,
   "metadata": {},
   "outputs": [
    {
     "data": {
      "text/plain": [
       "'Hjnnf b 1!'"
      ]
     },
     "execution_count": 218,
     "metadata": {},
     "output_type": "execute_result"
    }
   ],
   "source": [
    "def encrypt(plain_text, num_shift):\n",
    "\n",
    "    \"\"\"\n",
    "    encrypt the plain test by the numeric shift\n",
    "\n",
    "    input: plain_text -> str\n",
    "\n",
    "    output : encrepted text  \n",
    "    \"\"\"\n",
    "    words =plain_text.split()\n",
    "    cipher_words = []\n",
    "    for word in words:\n",
    "        cipher = \"\"\n",
    "        for char in word:\n",
    "            if char.islower() :\n",
    "                char_num = ord(char)\n",
    "                shifted_num = char_num + num_shift - 97\n",
    "                mod_num = shifted_num % 26 + 97\n",
    "                cipher += chr(mod_num)\n",
    "            elif char.isupper():\n",
    "                char_num = ord(char)\n",
    "                shifted_num = char_num + num_shift - 65\n",
    "                mod_num = shifted_num % 26 + 65\n",
    "                cipher += chr(mod_num)\n",
    "            else:\n",
    "                cipher += char\n",
    "        cipher_words.append(cipher)\n",
    "\n",
    "    return \" \" .join(cipher_words)\n",
    "\n",
    "encrypt(\"Gimme a 1!\",1)"
   ]
  },
  {
   "cell_type": "code",
   "execution_count": 219,
   "metadata": {},
   "outputs": [
    {
     "data": {
      "text/plain": [
       "'Gimme a 2!'"
      ]
     },
     "execution_count": 219,
     "metadata": {},
     "output_type": "execute_result"
    }
   ],
   "source": [
    "def decrypt(cipher_text , key_):\n",
    "    \"\"\"\n",
    "    decrypt the cipher test by the given key\n",
    "\n",
    "    input: cipher_text -> str\n",
    "\n",
    "    output : decrypted text  \n",
    "    \"\"\"\n",
    "    return encrypt(cipher_text , -key_)\n",
    "\n",
    "decrypt(\"Hjnnf b 2!\" ,1)"
   ]
  },
  {
   "cell_type": "code",
   "execution_count": 220,
   "metadata": {},
   "outputs": [],
   "source": [
    "import nltk\n",
    "import re\n",
    "\n",
    "nltk.download('words', quiet=True)\n",
    "nltk.download('names', quiet=True)\n",
    "\n",
    "from nltk.corpus import words, names\n",
    "\n",
    "word_list = words.words()\n",
    "name_list = names.words()\n"
   ]
  },
  {
   "cell_type": "code",
   "execution_count": 221,
   "metadata": {},
   "outputs": [],
   "source": [
    "def count_words(phrase) -> int:\n",
    "  \"\"\"\n",
    "  Counts the amount of english words in a string\n",
    "  \"\"\"\n",
    "  # split the string into an array\n",
    "  words = phrase.split()\n",
    "  word_count = 0\n",
    "  for word in words:\n",
    "    clean_word = re.sub(r'[^A-Za-z]','',word)\n",
    "    # check if each word is found in either the word list or name\n",
    "    if clean_word.lower() in word_list or clean_word in name_list:\n",
    "      # increment word count\n",
    "      word_count += 1\n",
    "    else:\n",
    "      # print('Not recognized as word or name', word)\n",
    "      pass\n",
    "  # return the length\n",
    "  return word_count"
   ]
  },
  {
   "cell_type": "code",
   "execution_count": 225,
   "metadata": {},
   "outputs": [],
   "source": [
    "def crack(encrypted):\n",
    "    \"\"\"\n",
    "     function that will decode the cipher so that an encrypted message can be transformed into its original state \n",
    "\n",
    "     input : encrypted text \n",
    "     output : original text\n",
    "    \"\"\"\n",
    "    word = \"\"\n",
    "    num_of_litters = range(26)\n",
    "    for shift in num_of_litters:\n",
    "\n",
    "        decrypt_val = decrypt(encrypted ,shift)\n",
    "        word_count = count_words(decrypt_val)\n",
    "        total_words = len(decrypt_val.split())\n",
    "        ratio =  word_count / total_words\n",
    "        percentage = ratio * 100\n",
    "        threshold = 60\n",
    "\n",
    "        if percentage > threshold:\n",
    "            word += decrypt_val\n",
    "    return word\n"
   ]
  },
  {
   "cell_type": "markdown",
   "metadata": {},
   "source": [
    "********************* # Testing part ***"
   ]
  },
  {
   "cell_type": "code",
   "execution_count": 226,
   "metadata": {},
   "outputs": [
    {
     "name": "stdout",
     "output_type": "stream",
     "text": [
      "***** Test-1 Pass*****\n",
      "***** Test-2 Pass*****\n",
      "***** Test-3 Pass*****\n",
      "***** Test-4 Pass*****\n",
      "***** Test-7 Pass*****\n",
      "***** Test-6 Pass*****\n",
      "***** Test-5 Pass*****\n",
      "***** Test-8 Pass*****\n",
      "***** Test-9 Pass*****\n"
     ]
    }
   ],
   "source": [
    "def test_encrypt_shift_1():\n",
    "    actual = encrypt(\"apple\", 1)\n",
    "    expected = \"bqqmf\"\n",
    "    assert actual == expected\n",
    "    print(\"***** Test-1 Pass*****\")\n",
    "\n",
    "\n",
    "def test_encrypt_shift_10():\n",
    "    actual = encrypt(\"apple\", 10)\n",
    "    expected = \"kzzvo\"\n",
    "    assert actual == expected\n",
    "    print(\"***** Test-2 Pass*****\")\n",
    "\n",
    "\n",
    "def test_encrypt_shift_20():\n",
    "    actual = encrypt(\"apple\", 20)\n",
    "    expected = \"ujjfy\"\n",
    "    assert actual == expected\n",
    "    print(\"***** Test-3 Pass*****\")\n",
    "\n",
    "\n",
    "def test_uppercase():\n",
    "    actual = encrypt(\"BANANA\", 10)\n",
    "    expected = \"LKXKXK\"\n",
    "    assert actual == expected\n",
    "    print(\"***** Test-4 Pass*****\")\n",
    "\n",
    "\n",
    "\n",
    "def test_with_whitespace():\n",
    "    actual = encrypt(\"apples and bananas\", 1)\n",
    "    expected = \"bqqmft boe cbobobt\"\n",
    "    assert actual == expected\n",
    "    print(\"***** Test-5 Pass*****\")\n",
    "\n",
    "\n",
    "def test_with_non_alpha():\n",
    "    actual = encrypt(\"Gimme a 1!\", 1)\n",
    "    expected = \"Hjnnf b 1!\"\n",
    "    assert actual == expected\n",
    "    print(\"***** Test-6 Pass*****\")\n",
    "\n",
    "\n",
    "def test_round_trip():\n",
    "    original = \"Gimme a 1!\"\n",
    "    shift = 5\n",
    "    encrypted = encrypt(original, shift)\n",
    "    actual = decrypt(encrypted, shift)\n",
    "    expected = original\n",
    "    assert actual == expected\n",
    "    print(\"***** Test-7 Pass*****\")\n",
    "\n",
    "\n",
    "def test_crack_phrase():\n",
    "    phrase = \"It was the best of times, it was the worst of times.\"\n",
    "    encrypted = encrypt(phrase, 10)\n",
    "    actual = crack(encrypted)\n",
    "    expected = phrase\n",
    "    assert actual == expected\n",
    "    print(\"***** Test-8 Pass*****\")\n",
    "\n",
    "\n",
    "def test_crack_nonsense():\n",
    "    phrase = \"Ix fhw txe fofg of ndhrl, it nad tho hndrk of allkd.\"\n",
    "    encrypted = encrypt(phrase, 10)\n",
    "    actual = crack(encrypted)\n",
    "    expected = \"\"\n",
    "    assert actual == expected\n",
    "    print(\"***** Test-9 Pass*****\")\n",
    "\n",
    "test_encrypt_shift_1()\n",
    "test_encrypt_shift_10()\n",
    "test_encrypt_shift_20()\n",
    "test_uppercase()\n",
    "test_round_trip()\n",
    "test_with_non_alpha()\n",
    "test_with_whitespace()\n",
    "test_crack_phrase()\n",
    "test_crack_nonsense()"
   ]
  }
 ],
 "metadata": {
  "interpreter": {
   "hash": "d834d8d79f7d707aa6966da691c48a6b41d50238f6b8005a9048a0f63b02202c"
  },
  "kernelspec": {
   "display_name": "Python 3.9.7 64-bit ('.venv': poetry)",
   "name": "python3"
  },
  "language_info": {
   "codemirror_mode": {
    "name": "ipython",
    "version": 3
   },
   "file_extension": ".py",
   "mimetype": "text/x-python",
   "name": "python",
   "nbconvert_exporter": "python",
   "pygments_lexer": "ipython3",
   "version": "3.9.7"
  },
  "orig_nbformat": 4
 },
 "nbformat": 4,
 "nbformat_minor": 2
}
